{
 "cells": [
  {
   "cell_type": "code",
   "execution_count": 1,
   "id": "b22e86ab-2592-42dc-b894-9f7b872bb762",
   "metadata": {},
   "outputs": [
    {
     "name": "stderr",
     "output_type": "stream",
     "text": [
      "C:\\Users\\gupta\\AppData\\Local\\Temp\\ipykernel_6456\\279476204.py:20: UserWarning: frames=None which we can infer the length of, did not pass an explicit *save_count* and passed cache_frame_data=True.  To avoid a possibly unbounded cache, frame data caching has been disabled. To suppress this warning either pass `cache_frame_data=False` or `save_count=MAX_FRAMES`.\n",
      "  ani = FuncAnimation(plt.gcf(), animate, interval = 1000)\n"
     ]
    },
    {
     "data": {
      "text/plain": [
       "<Figure size 640x480 with 0 Axes>"
      ]
     },
     "metadata": {},
     "output_type": "display_data"
    }
   ],
   "source": [
    "import random         #Lect24 -Solve this error o/p is not coming ,here it will not work bcz jupyter is not suitable for realtime changing graph plots ,so use sublime text but i have to fix path issue there.\n",
    "from itertools import count\n",
    "import pandas as pd\n",
    "import matplotlib.pyplot as plt\n",
    "from matplotlib.animation import FuncAnimation\n",
    "plt.style.use('fivethirtyeight')\n",
    "\n",
    "x = []\n",
    "y = []\n",
    "\n",
    "index = count()\n",
    "\n",
    "def animate(i):\n",
    "\tx.append(next(index))\n",
    "\ty.append(random.randint(0, 8))\n",
    "\n",
    "\tplt.cla()\n",
    "\tplt.plot(x, y)\n",
    "\n",
    "ani = FuncAnimation(plt.gcf(), animate, interval = 1000)\n",
    "\n",
    "plt.tight_layout()\n",
    "plt.show()"
   ]
  },
  {
   "cell_type": "code",
   "execution_count": null,
   "id": "e1528065-e34e-434e-8cb2-1321860fa061",
   "metadata": {},
   "outputs": [],
   "source": []
  },
  {
   "cell_type": "code",
   "execution_count": null,
   "id": "dc6b0c54-b7a9-4b00-b8d9-6d4d16ff290e",
   "metadata": {},
   "outputs": [],
   "source": []
  },
  {
   "cell_type": "code",
   "execution_count": null,
   "id": "e35a1b7a-fb5e-4667-943e-b2a573ae7349",
   "metadata": {},
   "outputs": [],
   "source": []
  }
 ],
 "metadata": {
  "kernelspec": {
   "display_name": "Python 3 (ipykernel)",
   "language": "python",
   "name": "python3"
  },
  "language_info": {
   "codemirror_mode": {
    "name": "ipython",
    "version": 3
   },
   "file_extension": ".py",
   "mimetype": "text/x-python",
   "name": "python",
   "nbconvert_exporter": "python",
   "pygments_lexer": "ipython3",
   "version": "3.11.4"
  }
 },
 "nbformat": 4,
 "nbformat_minor": 5
}
